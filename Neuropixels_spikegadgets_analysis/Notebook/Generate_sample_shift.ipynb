{
 "cells": [
  {
   "cell_type": "markdown",
   "id": "5646acd7-ebac-434b-9c99-eec2f074aae9",
   "metadata": {},
   "source": [
    "# Generate sample shift (inter_sample_shift?)\n",
    "Calculates the relative sampling phase of each channel that results\n",
    "from Neuropixels ADC multiplexing.\n",
    "\n",
    "This information is needed to perform the preprocessing.phase_shift operation.\n",
    "\n",
    "See https://github.com/int-brain-lab/ibllib/blob/master/ibllib/ephys/neuropixel.py for the original implementation.\n",
    "\n",
    "Parameters  \n",
    "----------  \n",
    "- num_channels : int, default: 384  \n",
    "The total number of channels in a recording. All currently available Neuropixels variants have 384 channels.  \n",
    "- num_channels_per_adc : int, default: 12  \n",
    "The number of channels per ADC on the probe.  \n",
    "Neuropixels 1.0 probes have 12 ADCs.  \n",
    "Neuropixels 2.0 probes have 16 ADCs.  \n",
    "- num_cycles: int or None, default: None  \n",
    "The number of cycles in the ADC on the probe.  \n",
    "Neuropixels 1.0 probes have 13 cycles for AP and 12 for LFP.  \n",
    "Neuropixels 2.0 probes have 16 cycles.  \n",
    "If None, the num_channels_per_adc is used.  \n",
    "\n",
    "Returns  \n",
    "-------  \n",
    "- sample_shifts : ndarray  \n",
    "The relative phase (from 0-1) of each channel  "
   ]
  },
  {
   "cell_type": "markdown",
   "id": "23ac88b7-fb49-47ce-a3b5-64a0938046e6",
   "metadata": {},
   "source": [
    "## Body"
   ]
  },
  {
   "cell_type": "markdown",
   "id": "10a0aae5-3387-4ed7-b130-bfd6521815ba",
   "metadata": {},
   "source": [
    "### Recording directory"
   ]
  },
  {
   "cell_type": "code",
   "execution_count": null,
   "id": "cd67b5d2-cda7-40ad-b0ef-63f06b4819ee",
   "metadata": {},
   "outputs": [],
   "source": [
    "# Path of recording directory\n",
    "rec_dir = 'C:/Users/Tatsumi/Documents/Data/KQTY_NP/32623/20230907_1min'"
   ]
  },
  {
   "cell_type": "markdown",
   "id": "50aef4ac-e639-4893-9495-833e2e3ee59e",
   "metadata": {},
   "source": [
    "### Codes"
   ]
  },
  {
   "cell_type": "markdown",
   "id": "c22c45e7-6b3d-4fe7-9a5b-625ae8cbcfc2",
   "metadata": {},
   "source": [
    "## Function"
   ]
  },
  {
   "cell_type": "code",
   "execution_count": 13,
   "id": "fee1ea69-df1a-41b3-97ab-aba2e87b9932",
   "metadata": {},
   "outputs": [],
   "source": [
    "import os\n",
    "import numpy as np"
   ]
  },
  {
   "cell_type": "code",
   "execution_count": 14,
   "id": "fcf18bb0-883a-453b-a03f-879f664e19f5",
   "metadata": {},
   "outputs": [],
   "source": [
    "out_dir = '{}/processed'.format(rec_dir)\n",
    "if not os.path.exists(out_dir):\n",
    "    os.mkdir(out_dir)"
   ]
  },
  {
   "cell_type": "code",
   "execution_count": 21,
   "id": "30531f3d-f3b9-4805-9ecf-65f9ace92e0b",
   "metadata": {},
   "outputs": [],
   "source": [
    "# Generate sample shift\n",
    "streams = ['LFP','spikeband']\n",
    "for stream in streams:\n",
    "    num_channels = 384\n",
    "    num_channels_per_adc = 12\n",
    "    if stream == 'LFP':\n",
    "        num_cycles = 13 # AP\n",
    "    if stream == 'spikeband':\n",
    "        num_cycles = 12 # LFP\n",
    "    \n",
    "    adc_indices = np.floor(np.arange(num_channels) / (num_channels_per_adc*2))*2    \\\n",
    "            + np.mod(np.arange(num_channels), 2)\n",
    "    \n",
    "    sample_shifts = np.zeros_like(adc_indices)\n",
    "    for a in adc_indices:\n",
    "        sample_shifts[adc_indices == a] = np.arange(num_channels_per_adc) / num_cycles\n",
    "\n",
    "    # Save to npy file\n",
    "    out_path = os.path.join(out_dir,'inter_sample_shift_{}.npy'.format(stream))\n",
    "    "
   ]
  },
  {
   "cell_type": "code",
   "execution_count": 27,
   "id": "f6ede3e7-87cc-4732-a4f0-145e7c88fc7b",
   "metadata": {},
   "outputs": [
    {
     "data": {
      "text/plain": [
       "array([0.23076923, 0.23076923, 0.15384615, 0.15384615, 0.07692308,\n",
       "       0.07692308, 0.        , 0.        , 0.84615385, 0.84615385,\n",
       "       0.76923077, 0.76923077, 0.69230769, 0.69230769, 0.61538462,\n",
       "       0.61538462, 0.53846154, 0.53846154, 0.46153846, 0.46153846,\n",
       "       0.38461538, 0.38461538, 0.30769231, 0.30769231, 0.23076923,\n",
       "       0.23076923, 0.15384615, 0.15384615, 0.07692308, 0.07692308,\n",
       "       0.        , 0.        , 0.84615385, 0.84615385, 0.76923077,\n",
       "       0.76923077, 0.69230769, 0.69230769, 0.61538462, 0.61538462,\n",
       "       0.53846154, 0.53846154, 0.46153846, 0.46153846, 0.38461538,\n",
       "       0.38461538, 0.30769231, 0.30769231, 0.23076923, 0.23076923,\n",
       "       0.15384615, 0.15384615, 0.07692308, 0.07692308, 0.        ,\n",
       "       0.        , 0.84615385, 0.84615385, 0.76923077, 0.76923077,\n",
       "       0.69230769, 0.69230769, 0.61538462, 0.61538462, 0.53846154,\n",
       "       0.53846154, 0.46153846, 0.46153846, 0.38461538, 0.38461538,\n",
       "       0.30769231, 0.30769231, 0.23076923, 0.23076923, 0.15384615,\n",
       "       0.15384615, 0.07692308, 0.07692308, 0.        , 0.        ,\n",
       "       0.84615385, 0.84615385, 0.76923077, 0.76923077, 0.69230769,\n",
       "       0.69230769, 0.61538462, 0.61538462, 0.53846154, 0.53846154,\n",
       "       0.46153846, 0.46153846, 0.38461538, 0.38461538, 0.30769231,\n",
       "       0.30769231, 0.23076923, 0.23076923, 0.15384615, 0.15384615,\n",
       "       0.07692308, 0.07692308, 0.        , 0.        , 0.84615385,\n",
       "       0.84615385, 0.76923077, 0.76923077, 0.69230769, 0.69230769,\n",
       "       0.61538462, 0.61538462, 0.53846154, 0.53846154, 0.46153846,\n",
       "       0.46153846, 0.38461538, 0.38461538, 0.30769231, 0.30769231,\n",
       "       0.23076923, 0.23076923, 0.15384615, 0.15384615, 0.07692308,\n",
       "       0.07692308, 0.        , 0.        , 0.84615385, 0.84615385,\n",
       "       0.76923077, 0.76923077, 0.69230769, 0.69230769, 0.61538462,\n",
       "       0.61538462, 0.53846154, 0.53846154, 0.46153846, 0.46153846,\n",
       "       0.38461538, 0.38461538, 0.30769231, 0.30769231, 0.23076923,\n",
       "       0.23076923, 0.15384615, 0.15384615, 0.07692308, 0.07692308,\n",
       "       0.        , 0.        , 0.84615385, 0.84615385, 0.76923077,\n",
       "       0.76923077, 0.69230769, 0.69230769, 0.61538462, 0.61538462,\n",
       "       0.53846154, 0.53846154, 0.46153846, 0.46153846, 0.38461538,\n",
       "       0.38461538, 0.30769231, 0.30769231, 0.23076923, 0.23076923,\n",
       "       0.15384615, 0.15384615, 0.07692308, 0.07692308, 0.        ,\n",
       "       0.        , 0.84615385, 0.84615385, 0.76923077, 0.76923077,\n",
       "       0.69230769, 0.69230769, 0.61538462, 0.61538462, 0.53846154,\n",
       "       0.53846154, 0.46153846, 0.46153846, 0.38461538, 0.38461538,\n",
       "       0.30769231, 0.30769231, 0.23076923, 0.23076923, 0.15384615,\n",
       "       0.15384615, 0.07692308, 0.07692308, 0.        , 0.        ])"
      ]
     },
     "execution_count": 27,
     "metadata": {},
     "output_type": "execute_result"
    }
   ],
   "source": [
    "num_chan = probe0.get_contact_count()\n",
    "inter_sample_shift = np.zeros(num_chan)\n",
    "\n",
    "chans = probe0.device_channel_indices\n",
    "for i in range(len(chans)):\n",
    "    inter_sample_shift[i] = sample_shifts[chans[i]]\n",
    "\n",
    "inter_sample_shift"
   ]
  }
 ],
 "metadata": {
  "kernelspec": {
   "display_name": "Python 3 (ipykernel)",
   "language": "python",
   "name": "python3"
  },
  "language_info": {
   "codemirror_mode": {
    "name": "ipython",
    "version": 3
   },
   "file_extension": ".py",
   "mimetype": "text/x-python",
   "name": "python",
   "nbconvert_exporter": "python",
   "pygments_lexer": "ipython3",
   "version": "3.10.12"
  }
 },
 "nbformat": 4,
 "nbformat_minor": 5
}
