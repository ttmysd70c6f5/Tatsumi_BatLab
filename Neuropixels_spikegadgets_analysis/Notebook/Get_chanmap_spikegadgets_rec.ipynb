{
 "cells": [
  {
   "cell_type": "markdown",
   "id": "7e0036e0-3886-433c-bfb2-bf86d8b06183",
   "metadata": {},
   "source": [
    "# Extract channel map from raw file"
   ]
  },
  {
   "cell_type": "code",
   "execution_count": 1,
   "id": "4800e4b1-4bc4-481d-b770-b261f0b0b0fe",
   "metadata": {},
   "outputs": [],
   "source": [
    "# Import library\n",
    "import numpy as np\n",
    "import pandas as pd\n",
    "from xml.etree import ElementTree\n",
    "import matplotlib.pyplot as plt\n",
    "import re\n",
    "import os\n",
    "\n",
    "from probeinterface import Probe, ProbeGroup, write_prb\n",
    "from probeinterface.plotting import plot_probe, plot_probe_group\n"
   ]
  },
  {
   "cell_type": "code",
   "execution_count": 27,
   "id": "294b7ba2-5f20-48d8-bd35-978da082f051",
   "metadata": {},
   "outputs": [],
   "source": [
    "# local_path = 'E:/Dataset/KQTY/GridBat/32622/flight_room/231006/ephys/20231006_152611.rec/20231006_152611_merged.trodesconf'"
   ]
  },
  {
   "cell_type": "code",
   "execution_count": 35,
   "id": "67dabaf2-83be-4c47-b822-0dc47213faf8",
   "metadata": {},
   "outputs": [],
   "source": [
    "# local_path = 'C:/Users/Tatsumi/Documents/Data/KQTY_NP/32623/20230907_1min'"
   ]
  },
  {
   "cell_type": "code",
   "execution_count": 3,
   "id": "3127e5ab-ff70-4d7e-a50f-76380db1cdec",
   "metadata": {},
   "outputs": [
    {
     "data": {
      "text/plain": [
       "'Z:/users/Tatsumi/data/NP_Kevin/GridBat/32622/flight_room/231007/split_1min/20231007_133453_merged_1min.trodesconf'"
      ]
     },
     "execution_count": 3,
     "metadata": {},
     "output_type": "execute_result"
    }
   ],
   "source": [
    "local_path = 'Z:/users/Tatsumi/data/NP_Kevin/GridBat/32622/flight_room/231007/split_1min/20231007_133453_merged_1min.trodesconf'\n",
    "local_path"
   ]
  },
  {
   "cell_type": "code",
   "execution_count": 4,
   "id": "ef85ee13-f280-4b76-9e47-ac1c540bdb41",
   "metadata": {},
   "outputs": [],
   "source": [
    "header_size = None\n",
    "with open(local_path, mode='rb') as f:\n",
    "    while True:\n",
    "        line = f.readline()\n",
    "        if b\"</Configuration>\" in line:\n",
    "            header_size = f.tell()\n",
    "            break\n",
    "    if header_size is None:\n",
    "        ValueError(\"SpikeGadgets: the xml header does not contain '</Configuration>'\")\n",
    "\n",
    "    f.seek(0)\n",
    "    header_txt = f.read(header_size).decode('utf8')"
   ]
  },
  {
   "cell_type": "code",
   "execution_count": 5,
   "id": "06c86607-a16d-4f7b-b5c1-0a4fa4d33d66",
   "metadata": {},
   "outputs": [],
   "source": [
    "# explore xml header\n",
    "root = ElementTree.fromstring(header_txt)\n",
    "# gconf = sr = root.find('GlobalConfiguration')\n",
    "hconf = root.find('HardwareConfiguration')\n",
    "sconf = root.find('SpikeConfiguration')"
   ]
  },
  {
   "cell_type": "code",
   "execution_count": 6,
   "id": "27568344-19fd-42c9-ba5d-04e2e9e62a43",
   "metadata": {},
   "outputs": [
    {
     "name": "stdout",
     "output_type": "stream",
     "text": [
      "[192. 192.]\n"
     ]
    }
   ],
   "source": [
    "# Number of channels for each probe\n",
    "sources = hconf.findall(\"SourceOptions\")\n",
    "num_probe = len(sources)\n",
    "num_chans = np.zeros((num_probe))\n",
    "for pr in range(num_probe):\n",
    "    source = sources[pr]\n",
    "    source_id = source.attrib['name']\n",
    "    options = source.findall(\"CustomOption\")\n",
    "    for option in options:\n",
    "        if option.attrib['name'] == 'channelsOn':\n",
    "            probe_map = option.attrib['data']\n",
    "            probe_map = [int(ch) for ch in probe_map.split()]\n",
    "            num_chans[pr] = sum(probe_map)\n",
    "print(num_chans)"
   ]
  },
  {
   "cell_type": "code",
   "execution_count": 7,
   "id": "07d32f73-be31-4a0f-a5c9-c94bb77a2ead",
   "metadata": {},
   "outputs": [
    {
     "name": "stdout",
     "output_type": "stream",
     "text": [
      "      x     y  probe   id  hwChan\n",
      "0    -8  3600      0  352     477\n",
      "1    24  3600      0  351     476\n",
      "2   -24  3580      0  350     413\n",
      "3     8  3580      0  349     412\n",
      "4    -8  3560      0  348     349\n",
      "..   ..   ...    ...  ...     ...\n",
      "379   8  1980      1  189     686\n",
      "380  -8  1960      1  188     623\n",
      "381  24  1960      1  187     622\n",
      "382 -24  1940      1  186     559\n",
      "383   8  1940      1  185     558\n",
      "\n",
      "[384 rows x 5 columns]\n"
     ]
    }
   ],
   "source": [
    "# Get channel info\n",
    "# chan_map = np.zeros((int(sum(num_chans)),5))\n",
    "chan_map = []\n",
    "for trode in sconf:\n",
    "    for schan in trode:\n",
    "        pr = int(schan.attrib['spikeSortingGroup'])\n",
    "        id = int(trode.attrib['id']) - 1000*(pr+1) \n",
    "        hwchan = int(schan.attrib['hwChan'])\n",
    "        x = int(schan.attrib['coord_ml'])\n",
    "        y = int(schan.attrib['coord_dv'])\n",
    "        ap = int(schan.attrib['coord_ap'])\n",
    "\n",
    "        # chan_map.append((x,y,pr,id,hwchan))\n",
    "        chan_map.append((x,y,pr,id,hwchan))\n",
    "\n",
    "chan_map = np.asarray(chan_map)\n",
    "chan_map = pd.DataFrame(chan_map,columns=['x','y','probe','id','hwChan'])\n",
    "print(chan_map)"
   ]
  },
  {
   "cell_type": "code",
   "execution_count": 18,
   "id": "6cf9f7ae-b4e9-49fc-866a-551f69a3a70b",
   "metadata": {},
   "outputs": [],
   "source": [
    "device_indices = [i for i in range(len(chan_map))]\n",
    "chan_map_new = chan_map\n",
    "chan_map_new['id_new'] = device_indices"
   ]
  },
  {
   "cell_type": "code",
   "execution_count": 16,
   "id": "79dae7ca-85a2-4516-a95f-f6d3af14c411",
   "metadata": {},
   "outputs": [],
   "source": [
    "chan_map_new = []\n",
    "start_id = 0\n",
    "for pr in range(num_probe):\n",
    "    chan_map_old = chan_map[chan_map['probe']==pr]\n",
    "    chan_map_new_pr = chan_map_old.sort_values('id')\n",
    "    chan_id_new = [i for i in range(start_id,start_id + len(chan_map_old))]\n",
    "    start_id = np.max(chan_id_new) + 1\n",
    "    chan_map_new_pr['id_new'] = chan_id_new\n",
    "\n",
    "    chan_map_new.append(chan_map_new_pr)"
   ]
  },
  {
   "cell_type": "code",
   "execution_count": 25,
   "id": "d57ddfa0-6f52-4319-a612-d31aebb1afe4",
   "metadata": {},
   "outputs": [
    {
     "data": {
      "text/plain": [
       "array([[  -8, 3600,    0,  352,  477,    0],\n",
       "       [  24, 3600,    0,  351,  476,    1],\n",
       "       [ -24, 3580,    0,  350,  413,    2],\n",
       "       ...,\n",
       "       [  24, 1720,    0,  163,  588,  189],\n",
       "       [ -24, 1700,    0,  162,  525,  190],\n",
       "       [   8, 1700,    0,  161,  524,  191]], dtype=int64)"
      ]
     },
     "execution_count": 25,
     "metadata": {},
     "output_type": "execute_result"
    }
   ],
   "source": [
    "chan_map_new[chan_map_new['probe']==0].to_numpy()"
   ]
  },
  {
   "cell_type": "code",
   "execution_count": 20,
   "id": "61bb38ee-3be8-4c29-98a0-66c7c3ad6fc8",
   "metadata": {},
   "outputs": [
    {
     "ename": "NameError",
     "evalue": "name 'contact_ids' is not defined",
     "output_type": "error",
     "traceback": [
      "\u001b[1;31m---------------------------------------------------------------------------\u001b[0m",
      "\u001b[1;31mNameError\u001b[0m                                 Traceback (most recent call last)",
      "Cell \u001b[1;32mIn[20], line 8\u001b[0m\n\u001b[0;32m      6\u001b[0m     probe \u001b[38;5;241m=\u001b[39m Probe(ndim\u001b[38;5;241m=\u001b[39m\u001b[38;5;241m2\u001b[39m, si_units\u001b[38;5;241m=\u001b[39m\u001b[38;5;124m'\u001b[39m\u001b[38;5;124mum\u001b[39m\u001b[38;5;124m'\u001b[39m)\n\u001b[0;32m      7\u001b[0m     probe\u001b[38;5;241m.\u001b[39mset_contacts(positions\u001b[38;5;241m=\u001b[39mpositions, shapes\u001b[38;5;241m=\u001b[39m\u001b[38;5;124m'\u001b[39m\u001b[38;5;124mcircle\u001b[39m\u001b[38;5;124m'\u001b[39m, shape_params\u001b[38;5;241m=\u001b[39m{\u001b[38;5;124m'\u001b[39m\u001b[38;5;124mradius\u001b[39m\u001b[38;5;124m'\u001b[39m: \u001b[38;5;241m5\u001b[39m},shank_ids\u001b[38;5;241m=\u001b[39mshank_ids)\n\u001b[1;32m----> 8\u001b[0m     probe\u001b[38;5;241m.\u001b[39mset_contact_ids(contact_ids\u001b[38;5;241m=\u001b[39m\u001b[43mcontact_ids\u001b[49m)\n\u001b[0;32m      9\u001b[0m     probes\u001b[38;5;241m.\u001b[39mappend(probe)\n\u001b[0;32m     10\u001b[0m \u001b[38;5;28mprint\u001b[39m(probes)\n",
      "\u001b[1;31mNameError\u001b[0m: name 'contact_ids' is not defined"
     ]
    }
   ],
   "source": [
    "# Generate NP probes\n",
    "probes = []\n",
    "for pr in range(num_probe):\n",
    "    positions = chan_map[chan_map['probe']==pr][['x','y']]\n",
    "    shank_ids = np.ones(int(num_chans[pr])) * pr\n",
    "    probe = Probe(ndim=2, si_units='um')\n",
    "    probe.set_contacts(positions=positions, shapes='circle', shape_params={'radius': 5},shank_ids=shank_ids)\n",
    "    probe.set_contact_ids(contact_ids=contact_ids)\n",
    "    probes.append(probe)\n",
    "print(probes)"
   ]
  },
  {
   "cell_type": "code",
   "execution_count": 76,
   "id": "a933ab93-d83c-479a-9976-e7ab3aa2be2a",
   "metadata": {},
   "outputs": [
    {
     "data": {
      "text/plain": [
       "array([351, 350, 349, 348, 347, 346, 345, 344, 343, 342, 341, 340, 339,\n",
       "       338, 337, 336, 335, 334, 333, 332, 331, 330, 329, 328, 327, 326,\n",
       "       325, 324, 323, 322, 321, 320, 319, 318, 317, 316, 315, 314, 313,\n",
       "       312, 311, 310, 309, 308, 307, 306, 305, 304, 303, 302, 301, 300,\n",
       "       299, 298, 297, 296, 295, 294, 293, 292, 291, 290, 289, 288, 287,\n",
       "       286, 285, 284, 283, 282, 281, 280, 279, 278, 277, 276, 275, 274,\n",
       "       273, 272, 271, 270, 269, 268, 267, 266, 265, 264, 263, 262, 261,\n",
       "       260, 259, 258, 257, 256, 255, 254, 253, 252, 251, 250, 249, 248,\n",
       "       247, 246, 245, 244, 243, 242, 241, 240, 239, 238, 237, 236, 235,\n",
       "       234, 233, 232, 231, 230, 229, 228, 227, 226, 225, 224, 223, 222,\n",
       "       221, 220, 219, 218, 217, 216, 215, 214, 213, 212, 211, 210, 209,\n",
       "       208, 207, 206, 205, 204, 203, 202, 201, 200, 199, 198, 197, 196,\n",
       "       195, 194, 193, 192, 191, 190, 189, 188, 187, 186, 185, 184, 183,\n",
       "       182, 181, 180, 179, 178, 177, 176, 175, 174, 173, 172, 171, 170,\n",
       "       169, 168, 167, 166, 165, 164, 163, 162, 161, 160])"
      ]
     },
     "execution_count": 76,
     "metadata": {},
     "output_type": "execute_result"
    }
   ],
   "source": [
    "probes[0].device_channel_indices"
   ]
  },
  {
   "cell_type": "code",
   "execution_count": 73,
   "id": "5becf237-644f-44b6-a988-9b2af4a0693a",
   "metadata": {},
   "outputs": [
    {
     "data": {
      "text/plain": [
       "array(['1335', '1334', '1333', '1332', '1331', '1330', '1329', '1328',\n",
       "       '1327', '1326', '1325', '1324', '1323', '1322', '1321', '1320',\n",
       "       '1319', '1318', '1317', '1316', '1315', '1314', '1313', '1312',\n",
       "       '1311', '1310', '1309', '1308', '1307', '1306', '1305', '1304',\n",
       "       '1303', '1302', '1301', '1300', '1299', '1298', '1297', '1296',\n",
       "       '1295', '1294', '1293', '1292', '1291', '1290', '1289', '1288',\n",
       "       '1287', '1286', '1285', '1284', '1283', '1282', '1281', '1280',\n",
       "       '1279', '1278', '1277', '1276', '1275', '1274', '1273', '1272',\n",
       "       '1271', '1270', '1269', '1268', '1267', '1266', '1265', '1264',\n",
       "       '1263', '1262', '1261', '1260', '1259', '1258', '1257', '1256',\n",
       "       '1255', '1254', '1253', '1252', '1251', '1250', '1249', '1248',\n",
       "       '1247', '1246', '1245', '1244', '1243', '1242', '1241', '1240',\n",
       "       '1239', '1238', '1237', '1236', '1235', '1234', '1233', '1232',\n",
       "       '1231', '1230', '1229', '1228', '1227', '1226', '1225', '1224',\n",
       "       '1223', '1222', '1221', '1220', '1219', '1218', '1217', '1216',\n",
       "       '1215', '1214', '1213', '1212', '1211', '1210', '1209', '1208',\n",
       "       '1207', '1206', '1205', '1204', '1203', '1202', '1201', '1200',\n",
       "       '1199', '1198', '1197', '1196', '1195', '1194', '1193', '1192',\n",
       "       '1191', '1190', '1189', '1188', '1187', '1186', '1185', '1184',\n",
       "       '1183', '1182', '1181', '1180', '1179', '1178', '1177', '1176',\n",
       "       '1175', '1174', '1173', '1172', '1171', '1170', '1169', '1168',\n",
       "       '1167', '1166', '1165', '1164', '1163', '1162', '1161', '1160',\n",
       "       '1159', '1158', '1157', '1156', '1155', '1154', '1153', '1152',\n",
       "       '1151', '1150', '1149', '1148', '1147', '1146', '1145', '1144'],\n",
       "      dtype='<U11')"
      ]
     },
     "execution_count": 73,
     "metadata": {},
     "output_type": "execute_result"
    }
   ],
   "source": [
    "probes[0].contact_ids"
   ]
  },
  {
   "cell_type": "code",
   "execution_count": 17,
   "id": "9b6431d2-45a8-42d9-9c9e-9c12d8906821",
   "metadata": {},
   "outputs": [
    {
     "name": "stdout",
     "output_type": "stream",
     "text": [
      "None\n"
     ]
    }
   ],
   "source": [
    "print(probes[0].device_channel_indices)"
   ]
  },
  {
   "cell_type": "code",
   "execution_count": 18,
   "id": "acc31075-7e2b-4b81-add6-331cb5e10960",
   "metadata": {},
   "outputs": [
    {
     "data": {
      "text/html": [
       "<div>\n",
       "<style scoped>\n",
       "    .dataframe tbody tr th:only-of-type {\n",
       "        vertical-align: middle;\n",
       "    }\n",
       "\n",
       "    .dataframe tbody tr th {\n",
       "        vertical-align: top;\n",
       "    }\n",
       "\n",
       "    .dataframe thead th {\n",
       "        text-align: right;\n",
       "    }\n",
       "</style>\n",
       "<table border=\"1\" class=\"dataframe\">\n",
       "  <thead>\n",
       "    <tr style=\"text-align: right;\">\n",
       "      <th></th>\n",
       "      <th>x</th>\n",
       "      <th>y</th>\n",
       "      <th>contact_shapes</th>\n",
       "      <th>radius</th>\n",
       "      <th>shank_ids</th>\n",
       "      <th>contact_ids</th>\n",
       "    </tr>\n",
       "  </thead>\n",
       "  <tbody>\n",
       "    <tr>\n",
       "      <th>0</th>\n",
       "      <td>-8.0</td>\n",
       "      <td>3600.0</td>\n",
       "      <td>circle</td>\n",
       "      <td>5.0</td>\n",
       "      <td>0.0</td>\n",
       "      <td></td>\n",
       "    </tr>\n",
       "    <tr>\n",
       "      <th>1</th>\n",
       "      <td>24.0</td>\n",
       "      <td>3600.0</td>\n",
       "      <td>circle</td>\n",
       "      <td>5.0</td>\n",
       "      <td>0.0</td>\n",
       "      <td></td>\n",
       "    </tr>\n",
       "    <tr>\n",
       "      <th>2</th>\n",
       "      <td>-24.0</td>\n",
       "      <td>3580.0</td>\n",
       "      <td>circle</td>\n",
       "      <td>5.0</td>\n",
       "      <td>0.0</td>\n",
       "      <td></td>\n",
       "    </tr>\n",
       "    <tr>\n",
       "      <th>3</th>\n",
       "      <td>8.0</td>\n",
       "      <td>3580.0</td>\n",
       "      <td>circle</td>\n",
       "      <td>5.0</td>\n",
       "      <td>0.0</td>\n",
       "      <td></td>\n",
       "    </tr>\n",
       "    <tr>\n",
       "      <th>4</th>\n",
       "      <td>-8.0</td>\n",
       "      <td>3560.0</td>\n",
       "      <td>circle</td>\n",
       "      <td>5.0</td>\n",
       "      <td>0.0</td>\n",
       "      <td></td>\n",
       "    </tr>\n",
       "    <tr>\n",
       "      <th>...</th>\n",
       "      <td>...</td>\n",
       "      <td>...</td>\n",
       "      <td>...</td>\n",
       "      <td>...</td>\n",
       "      <td>...</td>\n",
       "      <td>...</td>\n",
       "    </tr>\n",
       "    <tr>\n",
       "      <th>187</th>\n",
       "      <td>8.0</td>\n",
       "      <td>1740.0</td>\n",
       "      <td>circle</td>\n",
       "      <td>5.0</td>\n",
       "      <td>0.0</td>\n",
       "      <td></td>\n",
       "    </tr>\n",
       "    <tr>\n",
       "      <th>188</th>\n",
       "      <td>-8.0</td>\n",
       "      <td>1720.0</td>\n",
       "      <td>circle</td>\n",
       "      <td>5.0</td>\n",
       "      <td>0.0</td>\n",
       "      <td></td>\n",
       "    </tr>\n",
       "    <tr>\n",
       "      <th>189</th>\n",
       "      <td>24.0</td>\n",
       "      <td>1720.0</td>\n",
       "      <td>circle</td>\n",
       "      <td>5.0</td>\n",
       "      <td>0.0</td>\n",
       "      <td></td>\n",
       "    </tr>\n",
       "    <tr>\n",
       "      <th>190</th>\n",
       "      <td>-24.0</td>\n",
       "      <td>1700.0</td>\n",
       "      <td>circle</td>\n",
       "      <td>5.0</td>\n",
       "      <td>0.0</td>\n",
       "      <td></td>\n",
       "    </tr>\n",
       "    <tr>\n",
       "      <th>191</th>\n",
       "      <td>8.0</td>\n",
       "      <td>1700.0</td>\n",
       "      <td>circle</td>\n",
       "      <td>5.0</td>\n",
       "      <td>0.0</td>\n",
       "      <td></td>\n",
       "    </tr>\n",
       "  </tbody>\n",
       "</table>\n",
       "<p>192 rows × 6 columns</p>\n",
       "</div>"
      ],
      "text/plain": [
       "        x       y contact_shapes  radius shank_ids contact_ids\n",
       "0    -8.0  3600.0         circle     5.0       0.0            \n",
       "1    24.0  3600.0         circle     5.0       0.0            \n",
       "2   -24.0  3580.0         circle     5.0       0.0            \n",
       "3     8.0  3580.0         circle     5.0       0.0            \n",
       "4    -8.0  3560.0         circle     5.0       0.0            \n",
       "..    ...     ...            ...     ...       ...         ...\n",
       "187   8.0  1740.0         circle     5.0       0.0            \n",
       "188  -8.0  1720.0         circle     5.0       0.0            \n",
       "189  24.0  1720.0         circle     5.0       0.0            \n",
       "190 -24.0  1700.0         circle     5.0       0.0            \n",
       "191   8.0  1700.0         circle     5.0       0.0            \n",
       "\n",
       "[192 rows x 6 columns]"
      ]
     },
     "execution_count": 18,
     "metadata": {},
     "output_type": "execute_result"
    }
   ],
   "source": [
    "df = probes[0].to_dataframe()\n",
    "df"
   ]
  },
  {
   "cell_type": "code",
   "execution_count": 19,
   "id": "a853b9b0-1f79-4d24-8a0e-0229120b833a",
   "metadata": {},
   "outputs": [
    {
     "name": "stdout",
     "output_type": "stream",
     "text": [
      "probegroup.get_channel_count() 384\n"
     ]
    }
   ],
   "source": [
    "# Generate probe groups\n",
    "probegroup = ProbeGroup()\n",
    "for probe in probes:\n",
    "    probegroup.add_probe(probe)\n",
    "print('probegroup.get_channel_count()', probegroup.get_channel_count())"
   ]
  },
  {
   "cell_type": "code",
   "execution_count": 75,
   "id": "b758fbf8-a8f0-449e-a785-cdb66d0a66ca",
   "metadata": {},
   "outputs": [
    {
     "name": "stdout",
     "output_type": "stream",
     "text": [
      "[(0,  351) (0,  350) (0,  349) (0,  348) (0,  347) (0,  346) (0,  345)\n",
      " (0,  344) (0,  343) (0,  342) (0,  341) (0,  340) (0,  339) (0,  338)\n",
      " (0,  337) (0,  336) (0,  335) (0,  334) (0,  333) (0,  332) (0,  331)\n",
      " (0,  330) (0,  329) (0,  328) (0,  327) (0,  326) (0,  325) (0,  324)\n",
      " (0,  323) (0,  322) (0,  321) (0,  320) (0,  319) (0,  318) (0,  317)\n",
      " (0,  316) (0,  315) (0,  314) (0,  313) (0,  312) (0,  311) (0,  310)\n",
      " (0,  309) (0,  308) (0,  307) (0,  306) (0,  305) (0,  304) (0,  303)\n",
      " (0,  302) (0,  301) (0,  300) (0,  299) (0,  298) (0,  297) (0,  296)\n",
      " (0,  295) (0,  294) (0,  293) (0,  292) (0,  291) (0,  290) (0,  289)\n",
      " (0,  288) (0,  287) (0,  286) (0,  285) (0,  284) (0,  283) (0,  282)\n",
      " (0,  281) (0,  280) (0,  279) (0,  278) (0,  277) (0,  276) (0,  275)\n",
      " (0,  274) (0,  273) (0,  272) (0,  271) (0,  270) (0,  269) (0,  268)\n",
      " (0,  267) (0,  266) (0,  265) (0,  264) (0,  263) (0,  262) (0,  261)\n",
      " (0,  260) (0,  259) (0,  258) (0,  257) (0,  256) (0,  255) (0,  254)\n",
      " (0,  253) (0,  252) (0,  251) (0,  250) (0,  249) (0,  248) (0,  247)\n",
      " (0,  246) (0,  245) (0,  244) (0,  243) (0,  242) (0,  241) (0,  240)\n",
      " (0,  239) (0,  238) (0,  237) (0,  236) (0,  235) (0,  234) (0,  233)\n",
      " (0,  232) (0,  231) (0,  230) (0,  229) (0,  228) (0,  227) (0,  226)\n",
      " (0,  225) (0,  224) (0,  223) (0,  222) (0,  221) (0,  220) (0,  219)\n",
      " (0,  218) (0,  217) (0,  216) (0,  215) (0,  214) (0,  213) (0,  212)\n",
      " (0,  211) (0,  210) (0,  209) (0,  208) (0,  207) (0,  206) (0,  205)\n",
      " (0,  204) (0,  203) (0,  202) (0,  201) (0,  200) (0,  199) (0,  198)\n",
      " (0,  197) (0,  196) (0,  195) (0,  194) (0,  193) (0,  192) (0,  191)\n",
      " (0,  190) (0,  189) (0,  188) (0,  187) (0,  186) (0,  185) (0,  184)\n",
      " (0,  183) (0,  182) (0,  181) (0,  180) (0,  179) (0,  178) (0,  177)\n",
      " (0,  176) (0,  175) (0,  174) (0,  173) (0,  172) (0,  171) (0,  170)\n",
      " (0,  169) (0,  168) (0,  167) (0,  166) (0,  165) (0,  164) (0,  163)\n",
      " (0,  162) (0,  161) (0,  160) (1, 1335) (1, 1334) (1, 1333) (1, 1332)\n",
      " (1, 1331) (1, 1330) (1, 1329) (1, 1328) (1, 1327) (1, 1326) (1, 1325)\n",
      " (1, 1324) (1, 1323) (1, 1322) (1, 1321) (1, 1320) (1, 1319) (1, 1318)\n",
      " (1, 1317) (1, 1316) (1, 1315) (1, 1314) (1, 1313) (1, 1312) (1, 1311)\n",
      " (1, 1310) (1, 1309) (1, 1308) (1, 1307) (1, 1306) (1, 1305) (1, 1304)\n",
      " (1, 1303) (1, 1302) (1, 1301) (1, 1300) (1, 1299) (1, 1298) (1, 1297)\n",
      " (1, 1296) (1, 1295) (1, 1294) (1, 1293) (1, 1292) (1, 1291) (1, 1290)\n",
      " (1, 1289) (1, 1288) (1, 1287) (1, 1286) (1, 1285) (1, 1284) (1, 1283)\n",
      " (1, 1282) (1, 1281) (1, 1280) (1, 1279) (1, 1278) (1, 1277) (1, 1276)\n",
      " (1, 1275) (1, 1274) (1, 1273) (1, 1272) (1, 1271) (1, 1270) (1, 1269)\n",
      " (1, 1268) (1, 1267) (1, 1266) (1, 1265) (1, 1264) (1, 1263) (1, 1262)\n",
      " (1, 1261) (1, 1260) (1, 1259) (1, 1258) (1, 1257) (1, 1256) (1, 1255)\n",
      " (1, 1254) (1, 1253) (1, 1252) (1, 1251) (1, 1250) (1, 1249) (1, 1248)\n",
      " (1, 1247) (1, 1246) (1, 1245) (1, 1244) (1, 1243) (1, 1242) (1, 1241)\n",
      " (1, 1240) (1, 1239) (1, 1238) (1, 1237) (1, 1236) (1, 1235) (1, 1234)\n",
      " (1, 1233) (1, 1232) (1, 1231) (1, 1230) (1, 1229) (1, 1228) (1, 1227)\n",
      " (1, 1226) (1, 1225) (1, 1224) (1, 1223) (1, 1222) (1, 1221) (1, 1220)\n",
      " (1, 1219) (1, 1218) (1, 1217) (1, 1216) (1, 1215) (1, 1214) (1, 1213)\n",
      " (1, 1212) (1, 1211) (1, 1210) (1, 1209) (1, 1208) (1, 1207) (1, 1206)\n",
      " (1, 1205) (1, 1204) (1, 1203) (1, 1202) (1, 1201) (1, 1200) (1, 1199)\n",
      " (1, 1198) (1, 1197) (1, 1196) (1, 1195) (1, 1194) (1, 1193) (1, 1192)\n",
      " (1, 1191) (1, 1190) (1, 1189) (1, 1188) (1, 1187) (1, 1186) (1, 1185)\n",
      " (1, 1184) (1, 1183) (1, 1182) (1, 1181) (1, 1180) (1, 1179) (1, 1178)\n",
      " (1, 1177) (1, 1176) (1, 1175) (1, 1174) (1, 1173) (1, 1172) (1, 1171)\n",
      " (1, 1170) (1, 1169) (1, 1168) (1, 1167) (1, 1166) (1, 1165) (1, 1164)\n",
      " (1, 1163) (1, 1162) (1, 1161) (1, 1160) (1, 1159) (1, 1158) (1, 1157)\n",
      " (1, 1156) (1, 1155) (1, 1154) (1, 1153) (1, 1152) (1, 1151) (1, 1150)\n",
      " (1, 1149) (1, 1148) (1, 1147) (1, 1146) (1, 1145) (1, 1144)]\n"
     ]
    }
   ],
   "source": [
    "for pr in range(num_probe):\n",
    "    contact_ids = chan_map[chan_map['probe']==pr]['id'].to_numpy() + 960 * pr\n",
    "    # print(contact_ids)\n",
    "    # print(type(contact_ids))\n",
    "    probes[pr].set_device_channel_indices(contact_ids)\n",
    "print(probegroup.get_global_device_channel_indices())"
   ]
  },
  {
   "cell_type": "code",
   "execution_count": 12,
   "id": "e154ac3d-6274-4779-bfde-47baefea00b6",
   "metadata": {},
   "outputs": [
    {
     "data": {
      "image/png": "[encoded data removed]",
      "text/plain": [
       "<Figure size 640x480 with 2 Axes>"
      ]
     },
     "metadata": {},
     "output_type": "display_data"
    }
   ],
   "source": [
    "plot_probe_group(probegroup, same_axes=False, with_channel_index=False)\n",
    "plt.show()"
   ]
  },
  {
   "cell_type": "code",
   "execution_count": 14,
   "id": "f321d325-29ac-4939-a048-ba4d724a946f",
   "metadata": {},
   "outputs": [
    {
     "name": "stdout",
     "output_type": "stream",
     "text": [
      "20230907_161730.prb\n"
     ]
    }
   ],
   "source": [
    "path_split = local_path.split('\\\\')\n",
    "path_split = path_split[-2].split('.')\n",
    "# output_path = os.path.dirname(local_path) + '\\\\' + path_split[0] + '.prb'\n",
    "output_path = path_split[0] + '.prb'\n",
    "print(output_path)\n",
    "\n",
    "# save to probe file\n",
    "write_prb(file=output_path,probegroup=probegroup)"
   ]
  }
 ],
 "metadata": {
  "kernelspec": {
   "display_name": "Python 3 (ipykernel)",
   "language": "python",
   "name": "python3"
  },
  "language_info": {
   "codemirror_mode": {
    "name": "ipython",
    "version": 3
   },
   "file_extension": ".py",
   "mimetype": "text/x-python",
   "name": "python",
   "nbconvert_exporter": "python",
   "pygments_lexer": "ipython3",
   "version": "3.9.18"
  }
 },
 "nbformat": 4,
 "nbformat_minor": 5
}
