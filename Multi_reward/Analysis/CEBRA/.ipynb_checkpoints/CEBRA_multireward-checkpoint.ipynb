{
 "cells": [
  {
   "cell_type": "markdown",
   "id": "1d15024a-1352-4479-9247-bdb4e31298f4",
   "metadata": {},
   "source": [
    "# CEBRA on Neuropixels data"
   ]
  },
  {
   "cell_type": "markdown",
   "id": "39bdaf57-8a89-4e43-bb22-0409d39a28ad",
   "metadata": {},
   "source": [
    "## Load data"
   ]
  },
  {
   "cell_type": "code",
   "execution_count": 6,
   "id": "1a19ec08-b865-4a98-b675-628dadc94dfa",
   "metadata": {},
   "outputs": [],
   "source": [
    "import scipy\n",
    "import numpy as np\n",
    "\n",
    "# Load data\n",
    "fname = 'C:/Users/Tatsumi/Documents/GitHub/Tatsumi_BatLab/Multi_reward/Analysis/CEBRA/cebra_14662_dCA1_vCA1_3_240210_2.mat'\n",
    "f = scipy.io.loadmat(fname)"
   ]
  },
  {
   "cell_type": "code",
   "execution_count": 4,
   "id": "6e4adcc6-6216-40f6-a5ad-83d4df9b58f4",
   "metadata": {},
   "outputs": [],
   "source": [
    "# Load data into variables\n",
    "accel = f['out']['Behavior'][0,0]['Fly'][0,0]['accel'][0,0]\n",
    "velocity = f['out']['Behavior'][0,0]['Fly'][0,0]['velocity'][0,0]\n",
    "position = f['out']['Behavior'][0,0]['Fly'][0,0]['position'][0,0]\n",
    "bhvtimes_sec = f['out']['Behavior'][0,0]['Fly'][0,0]['BhvTimes_sec'][0,0]\n",
    "\n",
    "sptimes_sec = f['out']['Neural'][0,0]['Fly'][0,0]['SpikeTimes_sec'][0,0]\n",
    "unit_ids = f['out']['Neural'][0,0]['Fly'][0,0]['UnitIDs'][0,0]"
   ]
  },
  {
   "cell_type": "markdown",
   "id": "61433b4d-d364-4edd-9eab-c3a8e18cb790",
   "metadata": {},
   "source": [
    "## Preprocessing"
   ]
  },
  {
   "cell_type": "markdown",
   "id": "70c05cc6-363c-494c-b8e0-26abe48e6c08",
   "metadata": {},
   "source": [
    "bin_size = 25; # bin size (sec)\n",
    "\n",
    "# Binning spike times\n",
    "binned_sptimes = \n",
    "\n",
    "\n",
    "binned_spike_times = np.array(np.floor(spikes_times*1000/bin_size), dtype='int');\n",
    "spike_by_neuron = np.zeros((binned_spike_times.max() - binned_spike_times.min()+1, pyr_cells.shape[0]));\n",
    "\n",
    "cell_dic = {};\n",
    "for i,v in enumerate(pyr_cells):\n",
    "    cell_dic[int(v)] = i;\n",
    "    \n",
    "for it in range(binned_spike_times.shape[0]):\n",
    "    spike_by_neuron[binned_spike_times[it]-binned_spike_times.min(), cell_dic[spikes_cells[it]]] += 1;\n",
    "    \n",
    "tph_binned_time = np.array(np.floor((np.arange(binned_spike_times.min(),binned_spike_times.max()+1)*bin_size/1000)*1250), dtype='int');\n",
    "tph_vec = tph[0][tph_binned_time]\n",
    "tlpf_vec = tlfp[0][tph_binned_time]\n",
    "\n",
    "binned_locations_times = np.array(np.floor(locations_times*1000/bin_size), dtype='int');\n",
    "non_na = (~np.isnan(linspeed_raw));\n",
    "binned_locations_times = binned_locations_times[non_na];\n",
    "locations = locations[non_na];\n",
    "linspeed_raw = linspeed_raw[non_na];\n",
    "linspeed_sm = linspeed_sm[non_na];\n",
    "#locations_2d = locations_2d[non_na];\n",
    "\n",
    "locations_vec = np.zeros(spike_by_neuron.shape[0])+np.nan;\n",
    "linspeed_vec = np.zeros(spike_by_neuron.shape[0])+np.nan;\n",
    "\n",
    "for it in range(len(binned_locations_times)):\n",
    "    locations_vec[binned_locations_times[it] - binned_spike_times.min()] = locations[it];\n",
    "    linspeed_vec[binned_locations_times[it] - binned_spike_times.min()] = linspeed_raw[it];\n",
    "    \n",
    "spike_by_neuron_use = spike_by_neuron[~np.isnan(locations_vec)];\n",
    "locations_vec = locations_vec[~np.isnan(locations_vec)];\n",
    "tph_vec = tph_vec[~np.isnan(linspeed_vec)]\n",
    "tlpf_vec = tlpf_vec[~np.isnan(linspeed_vec)]\n",
    "linspeed_vec = linspeed_vec[~np.isnan(linspeed_vec)];\n"
   ]
  }
 ],
 "metadata": {
  "kernelspec": {
   "display_name": "Python 3 (Spyder)",
   "language": "python3",
   "name": "python3"
  },
  "language_info": {
   "codemirror_mode": {
    "name": "ipython",
    "version": 3
   },
   "file_extension": ".py",
   "mimetype": "text/x-python",
   "name": "python",
   "nbconvert_exporter": "python",
   "pygments_lexer": "ipython3",
   "version": "3.9.18"
  }
 },
 "nbformat": 4,
 "nbformat_minor": 5
}
