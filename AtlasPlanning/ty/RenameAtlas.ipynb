{
 "cells": [
  {
   "cell_type": "code",
   "execution_count": 4,
   "id": "2e2f8959-30cf-4670-8067-4fece370981e",
   "metadata": {},
   "outputs": [
    {
     "name": "stdout",
     "output_type": "stream",
     "text": [
      "Files and directories in ' atlas ' :\n",
      "['Egyptian_fruit_bat_atlas_full_Most_updated_version_page-0001.jpg', 'Egyptian_fruit_bat_atlas_full_Most_updated_version_page-0002.jpg', 'Egyptian_fruit_bat_atlas_full_Most_updated_version_page-0003.jpg', 'Egyptian_fruit_bat_atlas_full_Most_updated_version_page-0004.jpg', 'Egyptian_fruit_bat_atlas_full_Most_updated_version_page-0005.jpg', 'Egyptian_fruit_bat_atlas_full_Most_updated_version_page-0006.jpg', 'Egyptian_fruit_bat_atlas_full_Most_updated_version_page-0007.jpg', 'Egyptian_fruit_bat_atlas_full_Most_updated_version_page-0008.jpg', 'Egyptian_fruit_bat_atlas_full_Most_updated_version_page-0009.jpg', 'Egyptian_fruit_bat_atlas_full_Most_updated_version_page-0010.jpg', 'Egyptian_fruit_bat_atlas_full_Most_updated_version_page-0011.jpg', 'Egyptian_fruit_bat_atlas_full_Most_updated_version_page-0012.jpg', 'Egyptian_fruit_bat_atlas_full_Most_updated_version_page-0013.jpg', 'Egyptian_fruit_bat_atlas_full_Most_updated_version_page-0014.jpg', 'Egyptian_fruit_bat_atlas_full_Most_updated_version_page-0015.jpg', 'Egyptian_fruit_bat_atlas_full_Most_updated_version_page-0016.jpg', 'Egyptian_fruit_bat_atlas_full_Most_updated_version_page-0017.jpg', 'Egyptian_fruit_bat_atlas_full_Most_updated_version_page-0018.jpg', 'Egyptian_fruit_bat_atlas_full_Most_updated_version_page-0019.jpg', 'Egyptian_fruit_bat_atlas_full_Most_updated_version_page-0020.jpg', 'Egyptian_fruit_bat_atlas_full_Most_updated_version_page-0021.jpg', 'Egyptian_fruit_bat_atlas_full_Most_updated_version_page-0022.jpg', 'Egyptian_fruit_bat_atlas_full_Most_updated_version_page-0023.jpg', 'Egyptian_fruit_bat_atlas_full_Most_updated_version_page-0024.jpg', 'Egyptian_fruit_bat_atlas_full_Most_updated_version_page-0025.jpg', 'Egyptian_fruit_bat_atlas_full_Most_updated_version_page-0026.jpg', 'Egyptian_fruit_bat_atlas_full_Most_updated_version_page-0027.jpg', 'Egyptian_fruit_bat_atlas_full_Most_updated_version_page-0028.jpg', 'Egyptian_fruit_bat_atlas_full_Most_updated_version_page-0029.jpg', 'Egyptian_fruit_bat_atlas_full_Most_updated_version_page-0030.jpg', 'Egyptian_fruit_bat_atlas_full_Most_updated_version_page-0031.jpg', 'Egyptian_fruit_bat_atlas_full_Most_updated_version_page-0032.jpg', 'Egyptian_fruit_bat_atlas_full_Most_updated_version_page-0033.jpg', 'Egyptian_fruit_bat_atlas_full_Most_updated_version_page-0034.jpg', 'Egyptian_fruit_bat_atlas_full_Most_updated_version_page-0035.jpg', 'Egyptian_fruit_bat_atlas_full_Most_updated_version_page-0036.jpg', 'Egyptian_fruit_bat_atlas_full_Most_updated_version_page-0037.jpg', 'Egyptian_fruit_bat_atlas_full_Most_updated_version_page-0038.jpg', 'Egyptian_fruit_bat_atlas_full_Most_updated_version_page-0039.jpg', 'Egyptian_fruit_bat_atlas_full_Most_updated_version_page-0040.jpg', 'Egyptian_fruit_bat_atlas_full_Most_updated_version_page-0041.jpg', 'Egyptian_fruit_bat_atlas_full_Most_updated_version_page-0042.jpg', 'Egyptian_fruit_bat_atlas_full_Most_updated_version_page-0043.jpg', 'Egyptian_fruit_bat_atlas_full_Most_updated_version_page-0044.jpg', 'Egyptian_fruit_bat_atlas_full_Most_updated_version_page-0045.jpg', 'Egyptian_fruit_bat_atlas_full_Most_updated_version_page-0046.jpg', 'Egyptian_fruit_bat_atlas_full_Most_updated_version_page-0047.jpg', 'Egyptian_fruit_bat_atlas_full_Most_updated_version_page-0048.jpg', 'Egyptian_fruit_bat_atlas_full_Most_updated_version_page-0049.jpg', 'Egyptian_fruit_bat_atlas_full_Most_updated_version_page-0050.jpg', 'Egyptian_fruit_bat_atlas_full_Most_updated_version_page-0051.jpg', 'Egyptian_fruit_bat_atlas_full_Most_updated_version_page-0052.jpg', 'Egyptian_fruit_bat_atlas_full_Most_updated_version_page-0053.jpg', 'Egyptian_fruit_bat_atlas_full_Most_updated_version_page-0054.jpg', 'Egyptian_fruit_bat_atlas_full_Most_updated_version_page-0055.jpg', 'Egyptian_fruit_bat_atlas_full_Most_updated_version_page-0056.jpg', 'Egyptian_fruit_bat_atlas_full_Most_updated_version_page-0057.jpg', 'Egyptian_fruit_bat_atlas_full_Most_updated_version_page-0058.jpg', 'Egyptian_fruit_bat_atlas_full_Most_updated_version_page-0059.jpg', 'Egyptian_fruit_bat_atlas_full_Most_updated_version_page-0060.jpg', 'Egyptian_fruit_bat_atlas_full_Most_updated_version_page-0061.jpg', 'Egyptian_fruit_bat_atlas_full_Most_updated_version_page-0062.jpg', 'Egyptian_fruit_bat_atlas_full_Most_updated_version_page-0063.jpg', 'Egyptian_fruit_bat_atlas_full_Most_updated_version_page-0064.jpg', 'Egyptian_fruit_bat_atlas_full_Most_updated_version_page-0065.jpg', 'Egyptian_fruit_bat_atlas_full_Most_updated_version_page-0066.jpg', 'Egyptian_fruit_bat_atlas_full_Most_updated_version_page-0067.jpg', 'Egyptian_fruit_bat_atlas_full_Most_updated_version_page-0068.jpg', 'Egyptian_fruit_bat_atlas_full_Most_updated_version_page-0069.jpg', 'Egyptian_fruit_bat_atlas_full_Most_updated_version_page-0070.jpg', 'Egyptian_fruit_bat_atlas_full_Most_updated_version_page-0071.jpg', 'Egyptian_fruit_bat_atlas_full_Most_updated_version_page-0072.jpg', 'Egyptian_fruit_bat_atlas_full_Most_updated_version_page-0073.jpg', 'Egyptian_fruit_bat_atlas_full_Most_updated_version_page-0074.jpg', 'Egyptian_fruit_bat_atlas_full_Most_updated_version_page-0075.jpg', 'Egyptian_fruit_bat_atlas_full_Most_updated_version_page-0076.jpg', 'Egyptian_fruit_bat_atlas_full_Most_updated_version_page-0077.jpg', 'Egyptian_fruit_bat_atlas_full_Most_updated_version_page-0078.jpg', 'Egyptian_fruit_bat_atlas_full_Most_updated_version_page-0079.jpg', 'Egyptian_fruit_bat_atlas_full_Most_updated_version_page-0080.jpg', 'Egyptian_fruit_bat_atlas_full_Most_updated_version_page-0081.jpg', 'Egyptian_fruit_bat_atlas_full_Most_updated_version_page-0082.jpg', 'Egyptian_fruit_bat_atlas_full_Most_updated_version_page-0083.jpg', 'Egyptian_fruit_bat_atlas_full_Most_updated_version_page-0084.jpg', 'Egyptian_fruit_bat_atlas_full_Most_updated_version_page-0085.jpg', 'Egyptian_fruit_bat_atlas_full_Most_updated_version_page-0086.jpg', 'Egyptian_fruit_bat_atlas_full_Most_updated_version_page-0087.jpg', 'Egyptian_fruit_bat_atlas_full_Most_updated_version_page-0088.jpg', 'Egyptian_fruit_bat_atlas_full_Most_updated_version_page-0089.jpg', 'Egyptian_fruit_bat_atlas_full_Most_updated_version_page-0090.jpg', 'Egyptian_fruit_bat_atlas_full_Most_updated_version_page-0091.jpg']\n"
     ]
    }
   ],
   "source": [
    "import os \n",
    "\n",
    "path = \"atlas\"\n",
    "dir_list = os.listdir(path)\n",
    "\n",
    "print(\"Files and directories in '\", path, \"' :\")\n",
    " \n",
    "# prints all files\n",
    "print(dir_list)"
   ]
  },
  {
   "cell_type": "code",
   "execution_count": 29,
   "id": "4c351eb3-0cfe-4e69-b197-0b18ef7f23ca",
   "metadata": {},
   "outputs": [],
   "source": [
    "for i in range(len(dir_list)):\n",
    "    filename = dir_list[i]\n",
    "    src = os.path.join('atlas',filename)\n",
    "    dst = os.path.join('atlas',filename[len(filename)-8:len(filename)])\n",
    "    os.rename(src,dst)"
   ]
  }
 ],
 "metadata": {
  "kernelspec": {
   "display_name": "Python 3 (ipykernel)",
   "language": "python",
   "name": "python3"
  },
  "language_info": {
   "codemirror_mode": {
    "name": "ipython",
    "version": 3
   },
   "file_extension": ".py",
   "mimetype": "text/x-python",
   "name": "python",
   "nbconvert_exporter": "python",
   "pygments_lexer": "ipython3",
   "version": "3.8.16"
  }
 },
 "nbformat": 4,
 "nbformat_minor": 5
}
