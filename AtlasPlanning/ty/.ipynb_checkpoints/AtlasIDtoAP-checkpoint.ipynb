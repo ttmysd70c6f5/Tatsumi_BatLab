{
 "cells": [
  {
   "cell_type": "code",
   "execution_count": 5,
   "id": "d8fc8290-3a84-44bf-a0e8-d4cde3e85b85",
   "metadata": {},
   "outputs": [],
   "source": [
    "import numpy as np\n",
    "import pickle\n",
    "\n",
    "AP = [np.nan, np.nan, 13.58, 13.47, 13.33, 13.09, 12.92, 12.84, 12.60, 12.43, \\\n",
    "      12.27, 12.10, 11.94, 11.78, 11.61, 11.53, 11.20, 11.12, 10.96, 10.79, \\\n",
    "      10.63, 10.46, 10.30, 10.22, 10.05, 9.81, 9.64, 9.40, 9.32, 9.15, \\\n",
    "      8.99, 8.82, 8.74, 8.66, 8.50, 8.41, 8.17, 7.84, 7.68, 7.51, \\\n",
    "      7.35, 7.18, 7.02, 6.77, 6.69, 6.61, 6.45, 6.36, 6.28, 6.20, \\\n",
    "      6.04, 5.95, 5.79, 5.71, 5.63, 5.38, 5.13, 5.05, 4.89, 4.72, \\\n",
    "      4.56, 4.48, 4.31, 4.23, 4.15, 3.90, 3.74, 3.58, 3.41, 3.25, \\\n",
    "      3.08, 2.92, 2.76, 2.59, 2.43, 2.26, 2.02, 1.85, 1.77, 1.61, \\\n",
    "      1.53, 1.36, 1.28, 1.20, 1.12, 1.03, 0.95, 0.87, 0.71, np.nan, np.nan]\n",
    "\n",
    "with open(\"AP\", \"wb\") as fp: # pickling\n",
    "    pickle.dump(AP,fp)"
   ]
  }
 ],
 "metadata": {
  "kernelspec": {
   "display_name": "Python 3 (ipykernel)",
   "language": "python",
   "name": "python3"
  },
  "language_info": {
   "codemirror_mode": {
    "name": "ipython",
    "version": 3
   },
   "file_extension": ".py",
   "mimetype": "text/x-python",
   "name": "python",
   "nbconvert_exporter": "python",
   "pygments_lexer": "ipython3",
   "version": "3.8.16"
  }
 },
 "nbformat": 4,
 "nbformat_minor": 5
}
