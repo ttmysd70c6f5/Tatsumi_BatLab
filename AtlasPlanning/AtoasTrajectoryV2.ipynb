{
 "cells": [
  {
   "cell_type": "markdown",
   "id": "cb4d827e-e945-4f51-a3d1-6521e5437d9d",
   "metadata": {},
   "source": [
    "# Probe Trajectory Estimation on Atlas\n",
    "\n",
    "## Modes\n",
    "1. Estimate trajectory based on the start and the end of trajectory. The input variables include the coordinates for start and end of desired trajectory. Then the function output the atlas images with the estimated trajectory between the corresponding plates. \\\n",
    "Input: id_insert, id_target, x_insert_mm, y_insert_mm, x_target_mm, y_target_mm\n",
    "\n",
    "\n",
    "2. Estimate a trajectory based on two coordinates that the trajectory should pass. Trajectory length should be set as the same vavue as what is set during experiments."
   ]
  },
  {
   "cell_type": "markdown",
   "id": "551bf9ea-88cf-4e8d-8669-131bc6e964ea",
   "metadata": {},
   "source": [
    "## Mode 1"
   ]
  },
  {
   "cell_type": "code",
   "execution_count": null,
   "id": "ead53053-ce02-4c72-bbc6-11cc6583e557",
   "metadata": {},
   "outputs": [],
   "source": [
    "# Specify the file ID on atlas\n",
    "id_insert = 44\n",
    "id_target = 87\n",
    "\n",
    "# Specify the insertion and target coordinates in mm\n",
    "x_insert_mm = 4\n",
    "y_insert_mm = 1.6\n",
    "\n",
    "x_target_mm = 5.7\n",
    "y_target_mm = 7.4\n",
    "\n",
    "# Function\n",
    "TrajectoryPlanning(id_insert, id_target, x_insert_mm, y_insert_mm, x_target_mm, y_target_mm)"
   ]
  },
  {
   "cell_type": "markdown",
   "id": "00725251-c951-47bc-8177-f9a20b3a5323",
   "metadata": {},
   "source": [
    "## Mode 2"
   ]
  },
  {
   "cell_type": "code",
   "execution_count": null,
   "id": "b09d79b1-a54d-4bd4-b696-8075b5dd4913",
   "metadata": {},
   "outputs": [],
   "source": []
  },
  {
   "cell_type": "markdown",
   "id": "45358db3-57d4-404d-9d99-6fab005db550",
   "metadata": {},
   "source": [
    "## Function"
   ]
  },
  {
   "cell_type": "code",
   "execution_count": 1,
   "id": "11bb88ef-2838-4188-acc5-c615e2aec094",
   "metadata": {
    "tags": []
   },
   "outputs": [
    {
     "ename": "ModuleNotFoundError",
     "evalue": "No module named 'PIL'",
     "output_type": "error",
     "traceback": [
      "\u001b[1;31m---------------------------------------------------------------------------\u001b[0m",
      "\u001b[1;31mModuleNotFoundError\u001b[0m                       Traceback (most recent call last)",
      "Cell \u001b[1;32mIn[1], line 2\u001b[0m\n\u001b[0;32m      1\u001b[0m \u001b[38;5;66;03m# Import libraries\u001b[39;00m\n\u001b[1;32m----> 2\u001b[0m \u001b[38;5;28;01mfrom\u001b[39;00m \u001b[38;5;21;01mPIL\u001b[39;00m \u001b[38;5;28;01mimport\u001b[39;00m Image, ImageDraw, ImageFont\n\u001b[0;32m      3\u001b[0m \u001b[38;5;28;01mimport\u001b[39;00m \u001b[38;5;21;01mmath\u001b[39;00m\n\u001b[0;32m      4\u001b[0m \u001b[38;5;28;01mimport\u001b[39;00m \u001b[38;5;21;01mos\u001b[39;00m \n",
      "\u001b[1;31mModuleNotFoundError\u001b[0m: No module named 'PIL'"
     ]
    }
   ],
   "source": [
    "# Import libraries\n",
    "from PIL import Image, ImageDraw, ImageFont\n",
    "import math\n",
    "import os \n",
    "import sys\n",
    "from datetime import datetime\n",
    "import glob\n",
    "import numpy as np\n",
    "import cv2\n",
    "import pickle\n",
    "import matplotlib.pyplot as plt\n",
    "\n",
    "def TrajectoryPlanning(id_insert, id_target, x_insert_mm, y_insert_mm, x_target_mm, y_target_mm):\n",
    "    # Coordinates in pixels\n",
    "    x_lim = [755, 210] # [0,8]\n",
    "    y_lim = [200, 993] # [0, 11.6]\n",
    "\n",
    "    # Convert coordinates\n",
    "    x_insert = x_lim[0] + x_insert_mm * (x_lim[1] - x_lim[0])/8\n",
    "    y_insert = y_lim[0] + y_insert_mm * (y_lim[1] - y_lim[0])/11.6\n",
    "    x_target = x_lim[0] + x_target_mm * (x_lim[1] - x_lim[0])/8\n",
    "    y_target = y_lim[0] + y_target_mm * (y_lim[1] - y_lim[0])/11.6\n",
    "\n",
    "    # AP coordinates for slices\n",
    "    with open(\"AP\", \"rb\") as fp:   # Unpickling\n",
    "        AP_ls = pickle.load(fp)\n",
    "\n",
    "    # AP coordinates of insertion and target\n",
    "    AP_insert = AP_ls[id_insert-1]\n",
    "    AP_target = AP_ls[id_target-1]\n",
    "\n",
    "    # AP coordinates for slices\n",
    "    with open(\"Plate\", \"rb\") as fp:   # Unpickling\n",
    "        plt_ls = pickle.load(fp)\n",
    "\n",
    "    # Plate number of insertion and target\n",
    "    plt_insert = plt_ls[id_insert-1]\n",
    "    plt_target = plt_ls[id_target-1]\n",
    "   \n",
    "    # load images and mark trajectories\n",
    "    atlas_path = 'atlas'\n",
    "    img_ls = [f'{i:04d}.jpg' for i in range(len(os.listdir(atlas_path)))]\n",
    "    \n",
    "\n",
    "    # Make save directory\n",
    "    now = datetime.now()\n",
    "    dt_string = now.strftime(\"%Y-%m-%d_%H-%M-%S\")\n",
    "    os.mkdir(dt_string)\n",
    "    #print(AP_insert, AP_target)\n",
    "    \n",
    "    # Compute and print the angles\n",
    "    \n",
    "    p3d_insert = np.array([x_insert_mm, y_insert_mm, AP_insert])\n",
    "    p3d_target = np.array([x_target_mm, y_target_mm, AP_target])\n",
    "    total_trajectory_dist = np.linalg.norm(p3d_insert - p3d_target)\n",
    "    \n",
    "    ML_vector = (y_target_mm - y_insert_mm, x_target_mm - x_insert_mm)\n",
    "    rot_AP_vector = np.array([AP_target - AP_insert, x_target_mm - x_insert_mm])\n",
    "    AP_angle = 90 - math.degrees(math.acos(np.linalg.norm(rot_AP_vector) / total_trajectory_dist))\n",
    "    ML_angle = math.degrees(math.acos(abs(ML_vector[0]) / math.sqrt(ML_vector[0]**2 + ML_vector[1]**2)))\n",
    "    print(AP_angle)\n",
    "\n",
    "    for id in range(id_insert-1,id_target):\n",
    "        im_path = os.path.join(atlas_path,img_ls[id+1])\n",
    "        im = np.array(Image.open(im_path))\n",
    "        AP = AP_ls[id]\n",
    "        # Compute x,y of trajectory in the current slice\n",
    "        x = x_target + (x_insert - x_target) * (AP - AP_target) / (AP_insert - AP_target)\n",
    "        y = y_target + (y_insert - y_target) * (AP - AP_target) / (AP_insert - AP_target)\n",
    "        \n",
    "        AP_dist_mm = np.abs(AP_insert - AP)\n",
    "        target_AP_dist_mm = np.abs(AP_insert - AP_target)\n",
    "        \n",
    "        \n",
    "        if(target_AP_dist_mm > 0):\n",
    "            probe_depth = (AP_dist_mm / target_AP_dist_mm) * total_trajectory_dist\n",
    "        else:\n",
    "            probe_depth = total_trajectory_dist\n",
    "    \n",
    "        font = cv2.FONT_HERSHEY_SIMPLEX\n",
    "        im = cv2.putText(im, f'{probe_depth} mm', (np.array(im).shape[1]//2 - 50, 100), font, \n",
    "                   1, [0,0,255], 2, cv2.LINE_AA)\n",
    "        \n",
    "        im = cv2.circle(im, np.array([x,y]).astype(np.int16), 6, [255,0,0], 2)\n",
    "        \n",
    "\n",
    "        # Save images\n",
    "        cv2.imwrite(os.path.join(dt_string, 'AP' + str(\"{:.2f}\".format(AP))) + '.jpg', im)\n",
    "\n",
    "    # Print\n",
    "    print(\"Insertion: Plate\", str(plt_insert), \", sinus\", AP_insert, \"(mm)\")\n",
    "    print(\"Target: Plate\", str(plt_target), \", sinus\", AP_target, \"(mm)\")\n",
    "    \n",
    "    print(\"AP_angle:\", round(AP_angle,2), \"degree\")\n",
    "    print(\"ML_angle:\", round(ML_angle,2), \"degree\")\n",
    "           \n",
    "    print(f'Trajectory Length: {total_trajectory_dist} mm')"
   ]
  }
 ],
 "metadata": {
  "kernelspec": {
   "display_name": "Python 3 (ipykernel)",
   "language": "python",
   "name": "python3"
  },
  "language_info": {
   "codemirror_mode": {
    "name": "ipython",
    "version": 3
   },
   "file_extension": ".py",
   "mimetype": "text/x-python",
   "name": "python",
   "nbconvert_exporter": "python",
   "pygments_lexer": "ipython3",
   "version": "3.9.16"
  }
 },
 "nbformat": 4,
 "nbformat_minor": 5
}
