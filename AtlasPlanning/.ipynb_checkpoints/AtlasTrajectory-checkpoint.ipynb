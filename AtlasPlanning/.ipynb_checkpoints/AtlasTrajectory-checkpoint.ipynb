{
 "cells": [
  {
   "cell_type": "markdown",
   "id": "fe075022-6453-4598-ab17-28f6a12937b8",
   "metadata": {},
   "source": [
    "# Probe Trajectory Planning"
   ]
  },
  {
   "cell_type": "markdown",
   "id": "bb152501-7349-4858-b367-3135a85e17d8",
   "metadata": {},
   "source": [
    "## Specify the number and AP for the insertion and the target region"
   ]
  },
  {
   "cell_type": "code",
   "execution_count": 6,
   "id": "8f199e58-a27f-45ca-b8c4-a8a77012d775",
   "metadata": {},
   "outputs": [],
   "source": [
    "# Specify the file ID on atlas\n",
    "id_insert = 44\n",
    "id_target = 87\n",
    "\n",
    "# Specify the insertion and target coordinates in mm\n",
    "x_insert_mm = 4\n",
    "y_insert_mm = 1.6\n",
    "\n",
    "x_target_mm = 5.7\n",
    "y_target_mm = 7.4"
   ]
  },
  {
   "cell_type": "markdown",
   "id": "ef741f91-f926-4b6b-95f2-e02a1a00518f",
   "metadata": {},
   "source": [
    "## Run this"
   ]
  },
  {
   "cell_type": "code",
   "execution_count": 13,
   "id": "e720dc1b-2b82-4445-81ad-c424ea3458b5",
   "metadata": {
    "scrolled": true
   },
   "outputs": [
    {
     "name": "stdout",
     "output_type": "stream",
     "text": [
      "46.27097260265474\n",
      "Insertion: Plate 42 , sinus 6.77 (mm)\n",
      "Target: Plate 85 , sinus 0.95 (mm)\n",
      "AP_angle: 46.27 degree\n",
      "ML_angle: 16.34 degree\n",
      "Trajectory Length: 8.390613803530705 mm\n"
     ]
    }
   ],
   "source": [
    "TrajectoryPlanning(id_insert, id_target, x_insert_mm, y_insert_mm, x_target_mm, y_target_mm)"
   ]
  },
  {
   "cell_type": "markdown",
   "id": "bf1fc86a-7385-4046-85e0-60aeadb7cd14",
   "metadata": {},
   "source": [
    "## Function"
   ]
  },
  {
   "cell_type": "code",
   "execution_count": 12,
   "id": "c5f0e450-dac5-4a9b-8909-f523c9b6a527",
   "metadata": {},
   "outputs": [],
   "source": [
    "# Import libraries\n",
    "from PIL import Image, ImageDraw, ImageFont\n",
    "import math\n",
    "import os \n",
    "import sys\n",
    "from datetime import datetime\n",
    "import glob\n",
    "import numpy as np\n",
    "import cv2\n",
    "import pickle\n",
    "import matplotlib.pyplot as plt\n",
    "\n",
    "def TrajectoryPlanning(id_insert, id_target, x_insert_mm, y_insert_mm, x_target_mm, y_target_mm):\n",
    "    # Coordinates in pixels\n",
    "    x_lim = [755, 210] # [0,8]\n",
    "    y_lim = [200, 993] # [0, 11.6]\n",
    "\n",
    "    # Convert coordinates\n",
    "    x_insert = x_lim[0] + x_insert_mm * (x_lim[1] - x_lim[0])/8\n",
    "    y_insert = y_lim[0] + y_insert_mm * (y_lim[1] - y_lim[0])/11.6\n",
    "    x_target = x_lim[0] + x_target_mm * (x_lim[1] - x_lim[0])/8\n",
    "    y_target = y_lim[0] + y_target_mm * (y_lim[1] - y_lim[0])/11.6\n",
    "\n",
    "    # AP coordinates for slices\n",
    "    with open(\"AP\", \"rb\") as fp:   # Unpickling\n",
    "        AP_ls = pickle.load(fp)\n",
    "\n",
    "    # AP coordinates of insertion and target\n",
    "    AP_insert = AP_ls[id_insert-1]\n",
    "    AP_target = AP_ls[id_target-1]\n",
    "\n",
    "    # AP coordinates for slices\n",
    "    with open(\"Plate\", \"rb\") as fp:   # Unpickling\n",
    "        plt_ls = pickle.load(fp)\n",
    "\n",
    "    # Plate number of insertion and target\n",
    "    plt_insert = plt_ls[id_insert-1]\n",
    "    plt_target = plt_ls[id_target-1]\n",
    "   \n",
    "    # load images and mark trajectories\n",
    "    atlas_path = 'atlas'\n",
    "    img_ls = [f'{i:04d}.jpg' for i in range(len(os.listdir(atlas_path)))]\n",
    "    \n",
    "\n",
    "    # Make save directory\n",
    "    now = datetime.now()\n",
    "    dt_string = now.strftime(\"%Y-%m-%d_%H-%M-%S\")\n",
    "    os.mkdir(dt_string)\n",
    "    #print(AP_insert, AP_target)\n",
    "    \n",
    "    # Compute and print the angles\n",
    "    \n",
    "    p3d_insert = np.array([x_insert_mm, y_insert_mm, AP_insert])\n",
    "    p3d_target = np.array([x_target_mm, y_target_mm, AP_target])\n",
    "    total_trajectory_dist = np.linalg.norm(p3d_insert - p3d_target)\n",
    "    \n",
    "    ML_vector = (y_target_mm - y_insert_mm, x_target_mm - x_insert_mm)\n",
    "    rot_AP_vector = np.array([AP_target - AP_insert, x_target_mm - x_insert_mm])\n",
    "    AP_angle = 90 - math.degrees(math.acos(np.linalg.norm(rot_AP_vector) / total_trajectory_dist))\n",
    "    ML_angle = math.degrees(math.acos(abs(ML_vector[0]) / math.sqrt(ML_vector[0]**2 + ML_vector[1]**2)))\n",
    "    print(AP_angle)\n",
    "\n",
    "    for id in range(id_insert-1,id_target):\n",
    "        im_path = os.path.join(atlas_path,img_ls[id+1])\n",
    "        im = np.array(Image.open(im_path))\n",
    "        AP = AP_ls[id]\n",
    "        # Compute x,y of trajectory in the current slice\n",
    "        x = x_target + (x_insert - x_target) * (AP - AP_target) / (AP_insert - AP_target)\n",
    "        y = y_target + (y_insert - y_target) * (AP - AP_target) / (AP_insert - AP_target)\n",
    "        \n",
    "        AP_dist_mm = np.abs(AP_insert - AP)\n",
    "        target_AP_dist_mm = np.abs(AP_insert - AP_target)\n",
    "        \n",
    "        \n",
    "        if(target_AP_dist_mm > 0):\n",
    "            probe_depth = (AP_dist_mm / target_AP_dist_mm) * total_trajectory_dist\n",
    "        else:\n",
    "            probe_depth = total_trajectory_dist\n",
    "    \n",
    "        font = cv2.FONT_HERSHEY_SIMPLEX\n",
    "        im = cv2.putText(im, f'{probe_depth} mm', (np.array(im).shape[1]//2 - 50, 100), font, \n",
    "                   1, [0,0,255], 2, cv2.LINE_AA)\n",
    "        \n",
    "        im = cv2.circle(im, np.array([x,y]).astype(np.int16), 6, [255,0,0], 2)\n",
    "        \n",
    "\n",
    "        # Save images\n",
    "        cv2.imwrite(os.path.join(dt_string, 'AP' + str(\"{:.2f}\".format(AP))) + '.jpg', im)\n",
    "\n",
    "    # Print\n",
    "    print(\"Insertion: Plate\", str(plt_insert), \", sinus\", AP_insert, \"(mm)\")\n",
    "    print(\"Target: Plate\", str(plt_target), \", sinus\", AP_target, \"(mm)\")\n",
    "    \n",
    "    print(\"AP_angle:\", round(AP_angle,2), \"degree\")\n",
    "    print(\"ML_angle:\", round(ML_angle,2), \"degree\")\n",
    "           \n",
    "    print(f'Trajectory Length: {total_trajectory_dist} mm')"
   ]
  }
 ],
 "metadata": {
  "kernelspec": {
   "display_name": "Python 3 (ipykernel)",
   "language": "python",
   "name": "python3"
  },
  "language_info": {
   "codemirror_mode": {
    "name": "ipython",
    "version": 3
   },
   "file_extension": ".py",
   "mimetype": "text/x-python",
   "name": "python",
   "nbconvert_exporter": "python",
   "pygments_lexer": "ipython3",
   "version": "3.8.16"
  }
 },
 "nbformat": 4,
 "nbformat_minor": 5
}
