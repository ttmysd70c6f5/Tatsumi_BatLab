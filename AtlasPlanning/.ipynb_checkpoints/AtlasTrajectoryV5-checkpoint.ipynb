{
 "cells": [
  {
   "cell_type": "markdown",
   "id": "fe075022-6453-4598-ab17-28f6a12937b8",
   "metadata": {},
   "source": [
    "# Probe Trajectory Planning"
   ]
  },
  {
   "cell_type": "markdown",
   "id": "ce7a279b-f472-475b-a48f-3ebb1f0234f5",
   "metadata": {},
   "source": [
    "## Example 1: two target regions are on different plates"
   ]
  },
  {
   "cell_type": "code",
   "execution_count": 9,
   "id": "2f4dbd72-00b8-4aaf-a76f-5323eeaf1b38",
   "metadata": {},
   "outputs": [
    {
     "name": "stdout",
     "output_type": "stream",
     "text": [
      "Target region 1: Plate 52 , sinus 5.71 (mm)\n",
      "Target region 2: Plate 76 , sinus 1.85 (mm)\n",
      "Azimuth: 41.37 degree\n",
      "Pitch: 36.31 degree\n"
     ]
    }
   ],
   "source": [
    "from TrajectoryPlanning import TrajectoryPlanning_v2 as trj\n",
    "\n",
    "# 1st target region\n",
    "plate1    = 52 # plate number\n",
    "ML1_mm = 3.0 # ML coordinate \n",
    "DV1_mm = 3.0 # DV coordinate\n",
    "# 2nd target region\n",
    "plate2    = 76 # plate number \n",
    "ML2_mm = 6.4 # ML coordinate\n",
    "DV2_mm = 10.0 # DV coordinate\n",
    "\n",
    "trajectory_name = 'Example_trajectory'\n",
    "\n",
    "trj(trajectory_name, plate1, plate2, ML1_mm, ML2_mm, DV1_mm, DV2_mm)"
   ]
  },
  {
   "cell_type": "markdown",
   "id": "ef1b844e-6571-4a88-827c-1f156e6efce7",
   "metadata": {},
   "source": [
    "## Example 2: two target regions are on the same plate"
   ]
  },
  {
   "cell_type": "code",
   "execution_count": 10,
   "id": "e76e9699-ba68-4e87-a2a3-47d5be7be5b8",
   "metadata": {},
   "outputs": [
    {
     "name": "stdout",
     "output_type": "stream",
     "text": [
      "Target region 1: Plate 81 , sinus 1.28 (mm)\n",
      "Target region 2: Plate 81 , sinus 1.28 (mm)\n",
      "Azimuth: 90.0 degree\n",
      "Pitch: 16.89 degree\n"
     ]
    }
   ],
   "source": [
    "from TrajectoryPlanning import TrajectoryPlanning_v2 as trj\n",
    "# 1st target region\n",
    "plate1    = 81 # plate number\n",
    "ML1_mm = 5.15 # ML coordinate \n",
    "DV1_mm = 2.85 # DV coordinate\n",
    "# 2nd target region\n",
    "plate2    = 81 # plate number \n",
    "ML2_mm = 7.2 # ML coordinate\n",
    "DV2_mm = 9.6 # DV coordinate\n",
    "\n",
    "trajectory_name = 'Example_trajectory2' # name of output directory\n",
    "\n",
    "trj(trajectory_name, plate1, plate2, ML1_mm, ML2_mm, DV1_mm, DV2_mm) # run the function"
   ]
  }
 ],
 "metadata": {
  "kernelspec": {
   "display_name": "Python 3 (ipykernel)",
   "language": "python",
   "name": "python3"
  },
  "language_info": {
   "codemirror_mode": {
    "name": "ipython",
    "version": 3
   },
   "file_extension": ".py",
   "mimetype": "text/x-python",
   "name": "python",
   "nbconvert_exporter": "python",
   "pygments_lexer": "ipython3",
   "version": "3.9.18"
  }
 },
 "nbformat": 4,
 "nbformat_minor": 5
}
