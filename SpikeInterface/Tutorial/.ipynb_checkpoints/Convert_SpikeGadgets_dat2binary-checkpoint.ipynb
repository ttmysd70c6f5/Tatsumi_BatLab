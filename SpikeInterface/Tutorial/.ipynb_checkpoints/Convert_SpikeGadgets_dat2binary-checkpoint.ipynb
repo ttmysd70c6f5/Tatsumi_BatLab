{
 "cells": [
  {
   "cell_type": "markdown",
   "id": "2de7119c-d9ec-4deb-b522-00d4c37bd40a",
   "metadata": {},
   "source": [
    "# Convert SpikeGadgets exported date into binary"
   ]
  },
  {
   "cell_type": "markdown",
   "id": "185490e1-d110-4fbd-81d2-59402e1cdfaf",
   "metadata": {},
   "source": [
    "The original trodes function `readTrodesExtractedDataFile3` cannot be imported because of the error caused by the testing function in the script. This is because the new version of NumPy does not support some syntax any more.  \n",
    "To load the data exported by Trodes, import and run the function copied and fixed for the part causing the error."
   ]
  },
  {
   "cell_type": "code",
   "execution_count": 2,
   "id": "58e2b53f-a10f-4da4-9577-b0ad5470a92b",
   "metadata": {},
   "outputs": [],
   "source": [
    "import sys"
   ]
  },
  {
   "cell_type": "code",
   "execution_count": 3,
   "id": "607d124f-20d7-4cc5-9cef-ae26c93c836c",
   "metadata": {},
   "outputs": [],
   "source": [
    "# Trodes function for data interface\n",
    "trodes_dir = 'C:/Users/Tatsumi/Documents/GitHub/Neuropixels_spikegadgets_analysis/python/fromTrodes/' # path of Trodes python functions\n",
    "sys.path.append(trodes_dir)\n",
    "from readTrodesExtractedDataFile3 import readTrodesExtractedDataFile as readTrodes\n",
    "from readTrodesExtractedDataFile3 import parseFields"
   ]
  },
  {
   "cell_type": "markdown",
   "id": "12a5a34f-00a9-4cfd-afef-760f03bfdd1b",
   "metadata": {},
   "source": [
    "## Load the original data"
   ]
  },
  {
   "cell_type": "code",
   "execution_count": null,
   "id": "fec9225d-a6a9-4c01-88c9-156c1ddd5628",
   "metadata": {},
   "outputs": [],
   "source": [
    "# Path of binary recording data\n",
    "binary_path = 'C:/Users/Tatsumi/Documents/Data/KQTY_NP/32623/20230907_161730.rec/20230907_161730_merged_split1.binary/20230907_161730_merged_split1.spikeband_probe1.dat' # spikeband\n",
    "# binary_path = 'C:/Users/Tatsumi/Documents/Data/KQTY_NP/32623/20230907_161730.rec/20230907_161730_merged_split1.kilosort/20230907_161730_merged_split1.probe1.dat' # kilosort: non-filtered spikeband\n",
    "# binary_path = 'C:/Users/Tatsumi/Documents/Data/KQTY_NP/32623/20230907_161730.rec/20230907_161730_merged_split1.binary/20230907_161730_merged_split1.LFP_probe1' # LFP band"
   ]
  },
  {
   "cell_type": "code",
   "execution_count": 4,
   "id": "5df10343-1718-4c49-9657-d95239be0817",
   "metadata": {},
   "outputs": [
    {
     "ename": "NameError",
     "evalue": "name 'readT' is not defined",
     "output_type": "error",
     "traceback": [
      "\u001b[1;31m---------------------------------------------------------------------------\u001b[0m",
      "\u001b[1;31mNameError\u001b[0m                                 Traceback (most recent call last)",
      "Cell \u001b[1;32mIn[4], line 1\u001b[0m\n\u001b[1;32m----> 1\u001b[0m \u001b[43mreadT\u001b[49m\n",
      "\u001b[1;31mNameError\u001b[0m: name 'readT' is not defined"
     ]
    }
   ],
   "source": [
    "readTrodes("
   ]
  }
 ],
 "metadata": {
  "kernelspec": {
   "display_name": "Python 3 (ipykernel)",
   "language": "python",
   "name": "python3"
  },
  "language_info": {
   "codemirror_mode": {
    "name": "ipython",
    "version": 3
   },
   "file_extension": ".py",
   "mimetype": "text/x-python",
   "name": "python",
   "nbconvert_exporter": "python",
   "pygments_lexer": "ipython3",
   "version": "3.10.12"
  }
 },
 "nbformat": 4,
 "nbformat_minor": 5
}
