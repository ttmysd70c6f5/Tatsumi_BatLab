{
 "cells": [
  {
   "cell_type": "code",
   "execution_count": 2,
   "id": "9b8b0998-30e7-4aec-b7de-cdf3a1544533",
   "metadata": {},
   "outputs": [],
   "source": [
    "import numpy as np\n",
    "from pathlib import Path\n",
    "import os\n",
    "import sys\n",
    "import matplotlib.pyplot as plt\n",
    "from pprint import pprint\n",
    "\n",
    "import spikeinterface as si  # import core only\n",
    "import spikeinterface.extractors as se\n",
    "import spikeinterface.preprocessing as spre\n",
    "import spikeinterface.sorters as ss\n",
    "import spikeinterface.postprocessing as spost\n",
    "import spikeinterface.qualitymetrics as sqm\n",
    "import spikeinterface.comparison as sc\n",
    "import spikeinterface.exporters as sexp\n",
    "import spikeinterface.curation as scur\n",
    "import spikeinterface.widgets as sw\n",
    "\n",
    "from probeinterface import read_prb\n",
    "\n",
    "from datetime import datetime\n",
    "from dateutil import tz\n",
    "# from neuroconv.datainterfaces import SpikeGadgetsRecordingInterface\n",
    "# from neuroconv.datainterfaces import KiloSortSortingInterface"
   ]
  },
  {
   "cell_type": "code",
   "execution_count": 17,
   "id": "b3ab15cc-974b-4657-a0c0-427c8781488a",
   "metadata": {},
   "outputs": [],
   "source": [
    "# Trodes function for data interface\n",
    "trodes_dir = 'C:/Users/Tatsumi/Documents/GitHub/Neuropixels_spikegadgets_analysis/python/fromTrodes/' # path of Trodes python functions\n",
    "sys.path.append(trodes_dir)\n",
    "from readTrodesExtractedDataFile3 import readTrodesExtractedDataFile as readTrodes\n",
    "from readTrodesExtractedDataFile3 import parseFields"
   ]
  },
  {
   "cell_type": "code",
   "execution_count": 18,
   "id": "af20ba98-e1bd-44f3-9580-3166b4f5cc11",
   "metadata": {},
   "outputs": [],
   "source": [
    "# Setting for parallel processing\n",
    "global_job_kwargs = dict(n_jobs=4, chunk_duration=\"1s\")\n",
    "si.set_global_job_kwargs(**global_job_kwargs)"
   ]
  },
  {
   "cell_type": "code",
   "execution_count": 19,
   "id": "012f9cc1-f7a6-4060-8d35-2cf109e027de",
   "metadata": {},
   "outputs": [],
   "source": [
    "%matplotlib inline"
   ]
  },
  {
   "cell_type": "markdown",
   "id": "71615291-9916-4f00-8928-0ab7b9be51d3",
   "metadata": {},
   "source": [
    "# Preprocessing"
   ]
  },
  {
   "cell_type": "markdown",
   "id": "5db9bd6d-933e-425a-8134-682d8a72c1c6",
   "metadata": {},
   "source": [
    "## Load binary data\n",
    "Data for Neuropixels recordings using SpikeGadgets system is not supported with the Spikeinterface. Non-Neuropixels SpikeGadgets data is supported, but the Neuropixels data structure is different from the non-Neuropixels one.  \n",
    "Instead of loading the Neuropixels recording file directly, we can load the data following these steps:  \n",
    "1. Extract the desired frequency band from the original raw file using the SpikeGadgets export utility. The voltage traces for individual channels are saved as separate .dat files.  \n",
    "2. Concatenate these .dat files across channels and convert into a binary file. The binary file should not have any header. The data structure of the binary file is (N x M) as N is the number of channels and M is the number of samples.\n",
    "3. Load the binary file using the Spikeinterface `read_binary` function.  "
   ]
  },
  {
   "cell_type": "code",
   "execution_count": null,
   "id": "e7804119-a6ec-41f8-8d67-abff161c0368",
   "metadata": {},
   "outputs": [],
   "source": [
    "# Path of binary recording data\n",
    "binary_path = 'C:/Users/Tatsumi/Documents/Data/KQTY_NP/32623/20230907_161730.rec/20230907_161730_merged_split1.binary/20230907_161730_merged_split1.spikeband_probe1.dat' # spikeband\n",
    "# binary_path = 'C:/Users/Tatsumi/Documents/Data/KQTY_NP/32623/20230907_161730.rec/20230907_161730_merged_split1.kilosort/20230907_161730_merged_split1.probe1.dat' # kilosort: non-filtered spikeband\n",
    "# binary_path = 'C:/Users/Tatsumi/Documents/Data/KQTY_NP/32623/20230907_161730.rec/20230907_161730_merged_split1.binary/20230907_161730_merged_split1.LFP_probe1' # LFP band"
   ]
  },
  {
   "cell_type": "code",
   "execution_count": null,
   "id": "79adf21e-d811-4e21-9e17-94f8c8141dcf",
   "metadata": {},
   "outputs": [],
   "source": [
    "sampling_frequency = 30000 # spikeband frequency\n",
    "dtype = 'int16'\n",
    "num_channels = 200\n",
    "gain_to_uV = 50\n",
    "offset_to_uV = 0\n",
    "\n",
    "rec_ap = si.read_binary(binary_path,sampling_frequency=sampling_frequency,dtype=dtype,num_channels=num_channels,gain_to_uV=gain_to_uV,offset_to_uV=offset_to_uV)\n",
    "rec_ap.set_property('inter_sample_shift',inter_sample_shift)\n",
    "print(rec_ap)"
   ]
  }
 ],
 "metadata": {
  "kernelspec": {
   "display_name": "Python 3 (ipykernel)",
   "language": "python",
   "name": "python3"
  },
  "language_info": {
   "codemirror_mode": {
    "name": "ipython",
    "version": 3
   },
   "file_extension": ".py",
   "mimetype": "text/x-python",
   "name": "python",
   "nbconvert_exporter": "python",
   "pygments_lexer": "ipython3",
   "version": "3.10.12"
  }
 },
 "nbformat": 4,
 "nbformat_minor": 5
}
