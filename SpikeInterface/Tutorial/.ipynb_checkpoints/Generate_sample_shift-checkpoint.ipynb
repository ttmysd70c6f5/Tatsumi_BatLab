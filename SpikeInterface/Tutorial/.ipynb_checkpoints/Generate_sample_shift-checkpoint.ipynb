{
 "cells": [
  {
   "cell_type": "markdown",
   "id": "5646acd7-ebac-434b-9c99-eec2f074aae9",
   "metadata": {},
   "source": [
    "# Generate sample shift (inter_sample_shift?)\n",
    "Calculates the relative sampling phase of each channel that results\n",
    "from Neuropixels ADC multiplexing.\n",
    "\n",
    "This information is needed to perform the preprocessing.phase_shift operation.\n",
    "\n",
    "See https://github.com/int-brain-lab/ibllib/blob/master/ibllib/ephys/neuropixel.py\n",
    "\n",
    "\n",
    "for the original implementation.\n",
    "\n",
    "Parameters\n",
    "----------\n",
    "num_channels : int, default: 384\n",
    "    The total number of channels in a reco`mrding.\n",
    "    All currently available Neuropixels variants have 384 channels.\n",
    "num_channels_per_adc : int, default: 12\n",
    "    The number of channels per ADC on the probe.\n",
    "    Neuropixels 1.0 probes have 12 ADCs.\n",
    "    Neuropixels 2.0 probes have 16 ADCs.\n",
    "num_cycles: int or None, default: None\n",
    "    The number of cycles in the ADC on the probe.\n",
    "    Neuropixels 1.0 probes have 13 cycles for AP and 12 for LFP.\n",
    "    Neuropixels 2.0 probes have 16 cycles.\n",
    "    If None, the num_channels_per_adc is used.\n",
    "\n",
    "Returns\n",
    "-------\n",
    "sample_shifts : ndarray\n",
    "    The relative phase (from 0-1) of each channel"
   ]
  },
  {
   "cell_type": "code",
   "execution_count": 32,
   "id": "30531f3d-f3b9-4805-9ecf-65f9ace92e0b",
   "metadata": {},
   "outputs": [],
   "source": [
    "import numpy as np\n",
    "\n",
    "num_channels = 384\n",
    "num_channels_per_adc = 12\n",
    "num_cycles = 13 # AP\n",
    "# num_cycles = 12 # LFP\n",
    "adc_indices = np.floor(np.arange(num_channels) / (num_channels_per_adc * 2)) * 2 + np.mod(np.arange(num_channels), 2)\n",
    "\n",
    "sample_shifts = np.zeros_like(adc_indices)\n",
    "for a in adc_indices:\n",
    "    sample_shifts[adc_indices == a] = np.arange(num_channels_per_adc) / num_cycles"
   ]
  }
 ],
 "metadata": {
  "kernelspec": {
   "display_name": "Python 3 (ipykernel)",
   "language": "python",
   "name": "python3"
  },
  "language_info": {
   "codemirror_mode": {
    "name": "ipython",
    "version": 3
   },
   "file_extension": ".py",
   "mimetype": "text/x-python",
   "name": "python",
   "nbconvert_exporter": "python",
   "pygments_lexer": "ipython3",
   "version": "3.10.12"
  }
 },
 "nbformat": 4,
 "nbformat_minor": 5
}
