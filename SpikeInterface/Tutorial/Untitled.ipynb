{
 "cells": [
  {
   "cell_type": "code",
   "execution_count": 2,
   "id": "8896c96c-3e2d-4259-a77a-13c327b01c49",
   "metadata": {},
   "outputs": [],
   "source": [
    "import os"
   ]
  },
  {
   "cell_type": "code",
   "execution_count": 14,
   "id": "f7effdf5-8a1c-478f-a4b2-f7ac128560d1",
   "metadata": {},
   "outputs": [],
   "source": [
    "os.chdir('C:/Users/Tatsumi/AppData/Local/anaconda3/envs/si_env/Lib/site-packages/spikeinterface/widgets')"
   ]
  },
  {
   "cell_type": "code",
   "execution_count": 15,
   "id": "d7b1ecbd-9453-49f3-87a8-1626802a7c26",
   "metadata": {},
   "outputs": [
    {
     "data": {
      "text/plain": [
       "'C:\\\\Users\\\\Tatsumi\\\\AppData\\\\Local\\\\anaconda3\\\\envs\\\\si_env\\\\Lib\\\\site-packages\\\\spikeinterface\\\\widgets'"
      ]
     },
     "execution_count": 15,
     "metadata": {},
     "output_type": "execute_result"
    }
   ],
   "source": [
    "pwd"
   ]
  },
  {
   "cell_type": "code",
   "execution_count": 13,
   "id": "dc483a7b-8383-42ef-832b-9cf8d721ad92",
   "metadata": {},
   "outputs": [
    {
     "ename": "ImportError",
     "evalue": "attempted relative import with no known parent package",
     "output_type": "error",
     "traceback": [
      "\u001b[1;31m---------------------------------------------------------------------------\u001b[0m",
      "\u001b[1;31mImportError\u001b[0m                               Traceback (most recent call last)",
      "Cell \u001b[1;32mIn[13], line 1\u001b[0m\n\u001b[1;32m----> 1\u001b[0m \u001b[38;5;28;01mfrom\u001b[39;00m \u001b[38;5;21;01m.\u001b[39;00m\u001b[38;5;21;01mbase\u001b[39;00m \u001b[38;5;28;01mimport\u001b[39;00m define_widget_function_from_class\n\u001b[0;32m      3\u001b[0m \u001b[38;5;66;03m# basics\u001b[39;00m\n\u001b[0;32m      4\u001b[0m \u001b[38;5;28;01mfrom\u001b[39;00m \u001b[38;5;21;01m.\u001b[39;00m\u001b[38;5;21;01mtimeseries\u001b[39;00m \u001b[38;5;28;01mimport\u001b[39;00m TimeseriesWidget\n",
      "\u001b[1;31mImportError\u001b[0m: attempted relative import with no known parent package"
     ]
    }
   ],
   "source": [
    "from base import define_widget_function_from_class\n",
    "\n",
    "# basics\n",
    "from timeseries import TimeseriesWidget\n",
    "\n",
    "# waveform\n",
    "from unit_waveforms import UnitWaveformsWidget\n",
    "from unit_templates import UnitTemplatesWidget\n",
    "from unit_waveforms_density_map import UnitWaveformDensityMapWidget\n",
    "\n",
    "# isi/ccg/acg\n",
    "from autocorrelograms import AutoCorrelogramsWidget\n",
    "from crosscorrelograms import CrossCorrelogramsWidget\n",
    "\n",
    "# peak activity\n",
    "\n",
    "# drift/motion\n",
    "\n",
    "# spikes-traces\n",
    "from spikes_on_traces import SpikesOnTracesWidget\n",
    "\n",
    "# PC related\n",
    "\n",
    "# units on probe\n",
    "from unit_locations import UnitLocationsWidget\n",
    "from .spike_locations import SpikeLocationsWidget\n",
    "\n",
    "# unit presence\n",
    "\n",
    "\n",
    "# comparison related\n",
    "\n",
    "# correlogram comparison\n",
    "\n",
    "# amplitudes\n",
    "from .amplitudes import AmplitudesWidget\n",
    "from .all_amplitudes_distributions import AllAmplitudesDistributionsWidget\n",
    "\n",
    "# metrics\n",
    "from .quality_metrics import QualityMetricsWidget\n",
    "from .template_metrics import TemplateMetricsWidget\n",
    "\n",
    "\n",
    "# motion/drift\n",
    "from .motion import MotionWidget\n",
    "\n",
    "# similarity\n",
    "from .template_similarity import TemplateSimilarityWidget\n",
    "\n",
    "\n",
    "from .unit_depths import UnitDepthsWidget\n",
    "\n",
    "# summary\n",
    "from .unit_summary import UnitSummaryWidget\n",
    "from .sorting_summary import SortingSummaryWidget\n",
    "\n",
    "# Plot traces: added by TY on 09/25/2023. Traces.py was downloaded from the spikeinterface github\n",
    "from .traces import TracesWidget"
   ]
  }
 ],
 "metadata": {
  "kernelspec": {
   "display_name": "Python 3 (ipykernel)",
   "language": "python",
   "name": "python3"
  },
  "language_info": {
   "codemirror_mode": {
    "name": "ipython",
    "version": 3
   },
   "file_extension": ".py",
   "mimetype": "text/x-python",
   "name": "python",
   "nbconvert_exporter": "python",
   "pygments_lexer": "ipython3",
   "version": "3.10.12"
  }
 },
 "nbformat": 4,
 "nbformat_minor": 5
}
